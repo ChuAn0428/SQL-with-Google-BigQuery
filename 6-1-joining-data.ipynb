{
 "cells": [
  {
   "cell_type": "markdown",
   "metadata": {
    "papermill": {
     "duration": 0.01063,
     "end_time": "2020-10-01T00:23:02.733932",
     "exception": false,
     "start_time": "2020-10-01T00:23:02.723302",
     "status": "completed"
    },
    "tags": []
   },
   "source": [
    "# Introduction\n",
    "\n",
    "You have the tools to obtain data from a single table in whatever format you want it. But what if the data you want is spread across multiple tables?\n",
    "\n",
    "That's where **JOIN** comes in! **JOIN** is incredibly important in practical SQL workflows. So let's get started.\n",
    "\n",
    "# Example\n",
    "\n",
    "We'll use our imaginary `pets` table, which has three columns: \n",
    "- `ID` - ID number for the pet\n",
    "- `Name` - name of the pet \n",
    "- `Animal` - type of animal \n",
    "\n",
    "We'll also add another table, called `owners`.  This table also has three columns: \n",
    "- `ID` - ID number for the owner (different from the ID number for the pet)\n",
    "- `Name` - name of the owner\n",
    "- `Pet_ID` - ID number for the pet that belongs to the owner (which matches the ID number for the pet in the `pets` table)\n",
    "\n",
    "![](https://i.imgur.com/Rx6L4m1.png) \n",
    "\n",
    "To get information that applies to a certain pet, we match the `ID` column in the `pets` table to the `Pet_ID` column in the `owners` table.  \n",
    "\n",
    "![](https://i.imgur.com/eXvIORm.png)\n",
    "\n",
    "For example, \n",
    "- the `pets` table shows that Dr. Harris Bonkers is the pet with ID 1. \n",
    "- The `owners` table shows that Aubrey Little is the owner of the pet with ID 1. \n",
    "\n",
    "Putting these two facts together, Dr. Harris Bonkers is owned by Aubrey Little.\n",
    "\n",
    "Fortunately, we don't have to do this by hand to figure out which owner goes with which pet. In the next section, you'll learn how to use **JOIN** to create a new table combining information from the `pets` and `owners` tables.\n",
    "\n",
    "# JOIN\n",
    "\n",
    "Using **JOIN**, we can write a query to create a table with just two columns: the name of the pet and the name of the owner. \n",
    "\n",
    "![](https://i.imgur.com/fLlng42.png)\n",
    "\n",
    "We combine information from both tables by matching rows where the `ID` column in the `pets` table matches the `Pet_ID` column in the `owners` table.\n",
    "\n",
    "In the query, **ON** determines which column in each table to use to combine the tables.  Notice that since the `ID` column exists in both tables, we have to clarify which one to use.  We use `p.ID` to refer to the `ID` column from the `pets` table, and `o.Pet_ID` refers to the `Pet_ID` column from the `owners` table.\n",
    "\n",
    "> In general, when you're joining tables, it's a good habit to specify which table each of your columns comes from. That way, you don't have to pull up the schema every time you go back to read the query.\n",
    "\n",
    "The type of **JOIN** we're using today is called an **INNER JOIN**. That means that a row will only be put in the final output table if the value in the columns you're using to combine them shows up in both the tables you're joining. For example, if Tom's ID number of 4 didn't exist in the `pets` table, we would only get 3 rows back from this query. There are other types of **JOIN**, but an **INNER JOIN** is very widely used, so it's a good one to start with."
   ]
  },
  {
   "cell_type": "markdown",
   "metadata": {
    "papermill": {
     "duration": 0.008745,
     "end_time": "2020-10-01T00:23:02.753108",
     "exception": false,
     "start_time": "2020-10-01T00:23:02.744363",
     "status": "completed"
    },
    "tags": []
   },
   "source": [
    "# Example: How many files are covered by each type of software license?\n",
    "\n",
    "GitHub is the most popular place to collaborate on software projects. A GitHub **repository** (or **repo**) is a collection of files associated with a specific project.  \n",
    "\n",
    "Most repos on GitHub are shared under a specific legal license, which determines the legal restrictions on how they are used.  For our example, we're going to look at how many different files have been released under each license. \n",
    "\n",
    "We'll work with two tables in the database.  The first table is the `licenses` table, which provides the name of each GitHub repo (in the `repo_name` column) and its corresponding license.  Here's a view of the first five rows."
   ]
  },
  {
   "cell_type": "code",
   "execution_count": 1,
   "metadata": {
    "_kg_hide-input": true,
    "execution": {
     "iopub.execute_input": "2020-10-01T00:23:02.781359Z",
     "iopub.status.busy": "2020-10-01T00:23:02.780485Z",
     "iopub.status.idle": "2020-10-01T00:23:04.325324Z",
     "shell.execute_reply": "2020-10-01T00:23:04.324604Z"
    },
    "papermill": {
     "duration": 1.563374,
     "end_time": "2020-10-01T00:23:04.325491",
     "exception": false,
     "start_time": "2020-10-01T00:23:02.762117",
     "status": "completed"
    },
    "tags": []
   },
   "outputs": [
    {
     "name": "stdout",
     "output_type": "stream",
     "text": [
      "Using Kaggle's public dataset BigQuery integration.\n"
     ]
    },
    {
     "data": {
      "text/html": [
       "<div>\n",
       "<style scoped>\n",
       "    .dataframe tbody tr th:only-of-type {\n",
       "        vertical-align: middle;\n",
       "    }\n",
       "\n",
       "    .dataframe tbody tr th {\n",
       "        vertical-align: top;\n",
       "    }\n",
       "\n",
       "    .dataframe thead th {\n",
       "        text-align: right;\n",
       "    }\n",
       "</style>\n",
       "<table border=\"1\" class=\"dataframe\">\n",
       "  <thead>\n",
       "    <tr style=\"text-align: right;\">\n",
       "      <th></th>\n",
       "      <th>repo_name</th>\n",
       "      <th>license</th>\n",
       "    </tr>\n",
       "  </thead>\n",
       "  <tbody>\n",
       "    <tr>\n",
       "      <th>0</th>\n",
       "      <td>Altai-man/perl6-Compress-Bzip2-Raw</td>\n",
       "      <td>artistic-2.0</td>\n",
       "    </tr>\n",
       "    <tr>\n",
       "      <th>1</th>\n",
       "      <td>morisbartyno/buildnew_andro_6.0</td>\n",
       "      <td>artistic-2.0</td>\n",
       "    </tr>\n",
       "    <tr>\n",
       "      <th>2</th>\n",
       "      <td>dagolden/ack2</td>\n",
       "      <td>artistic-2.0</td>\n",
       "    </tr>\n",
       "    <tr>\n",
       "      <th>3</th>\n",
       "      <td>reepblue/SourceSDKContent</td>\n",
       "      <td>artistic-2.0</td>\n",
       "    </tr>\n",
       "    <tr>\n",
       "      <th>4</th>\n",
       "      <td>pynk/PYNK-show-</td>\n",
       "      <td>artistic-2.0</td>\n",
       "    </tr>\n",
       "  </tbody>\n",
       "</table>\n",
       "</div>"
      ],
      "text/plain": [
       "                            repo_name       license\n",
       "0  Altai-man/perl6-Compress-Bzip2-Raw  artistic-2.0\n",
       "1     morisbartyno/buildnew_andro_6.0  artistic-2.0\n",
       "2                       dagolden/ack2  artistic-2.0\n",
       "3           reepblue/SourceSDKContent  artistic-2.0\n",
       "4                     pynk/PYNK-show-  artistic-2.0"
      ]
     },
     "execution_count": 1,
     "metadata": {},
     "output_type": "execute_result"
    }
   ],
   "source": [
    "\n",
    "from google.cloud import bigquery\n",
    "\n",
    "# Create a \"Client\" object\n",
    "client = bigquery.Client()\n",
    "\n",
    "# Construct a reference to the \"github_repos\" dataset\n",
    "dataset_ref = client.dataset(\"github_repos\", project=\"bigquery-public-data\")\n",
    "\n",
    "# API request - fetch the dataset\n",
    "dataset = client.get_dataset(dataset_ref)\n",
    "\n",
    "# Construct a reference to the \"licenses\" table\n",
    "licenses_ref = dataset_ref.table(\"licenses\")\n",
    "\n",
    "# API request - fetch the table\n",
    "licenses_table = client.get_table(licenses_ref)\n",
    "\n",
    "# Preview the first five lines of the \"licenses\" table\n",
    "client.list_rows(licenses_table, max_results=5).to_dataframe()"
   ]
  },
  {
   "cell_type": "markdown",
   "metadata": {
    "papermill": {
     "duration": 0.009972,
     "end_time": "2020-10-01T00:23:04.345854",
     "exception": false,
     "start_time": "2020-10-01T00:23:04.335882",
     "status": "completed"
    },
    "tags": []
   },
   "source": [
    "The second table is the `sample_files` table, which provides, among other information, the GitHub repo that each file belongs to (in the `repo_name` column).  The first several rows of this table are printed below."
   ]
  },
  {
   "cell_type": "code",
   "execution_count": 2,
   "metadata": {
    "_kg_hide-input": true,
    "execution": {
     "iopub.execute_input": "2020-10-01T00:23:04.375193Z",
     "iopub.status.busy": "2020-10-01T00:23:04.374430Z",
     "iopub.status.idle": "2020-10-01T00:23:05.155134Z",
     "shell.execute_reply": "2020-10-01T00:23:05.154286Z"
    },
    "papermill": {
     "duration": 0.799582,
     "end_time": "2020-10-01T00:23:05.155263",
     "exception": false,
     "start_time": "2020-10-01T00:23:04.355681",
     "status": "completed"
    },
    "tags": []
   },
   "outputs": [
    {
     "data": {
      "text/html": [
       "<div>\n",
       "<style scoped>\n",
       "    .dataframe tbody tr th:only-of-type {\n",
       "        vertical-align: middle;\n",
       "    }\n",
       "\n",
       "    .dataframe tbody tr th {\n",
       "        vertical-align: top;\n",
       "    }\n",
       "\n",
       "    .dataframe thead th {\n",
       "        text-align: right;\n",
       "    }\n",
       "</style>\n",
       "<table border=\"1\" class=\"dataframe\">\n",
       "  <thead>\n",
       "    <tr style=\"text-align: right;\">\n",
       "      <th></th>\n",
       "      <th>repo_name</th>\n",
       "      <th>ref</th>\n",
       "      <th>path</th>\n",
       "      <th>mode</th>\n",
       "      <th>id</th>\n",
       "      <th>symlink_target</th>\n",
       "    </tr>\n",
       "  </thead>\n",
       "  <tbody>\n",
       "    <tr>\n",
       "      <th>0</th>\n",
       "      <td>git/git</td>\n",
       "      <td>refs/heads/master</td>\n",
       "      <td>RelNotes</td>\n",
       "      <td>40960</td>\n",
       "      <td>62615ffa4e97803da96aefbc798ab50f949a8db7</td>\n",
       "      <td>Documentation/RelNotes/2.10.0.txt</td>\n",
       "    </tr>\n",
       "    <tr>\n",
       "      <th>1</th>\n",
       "      <td>np/ling</td>\n",
       "      <td>refs/heads/master</td>\n",
       "      <td>tests/success/plug_compose.t/plug_compose.ll</td>\n",
       "      <td>40960</td>\n",
       "      <td>0c1605e4b447158085656487dc477f7670c4bac1</td>\n",
       "      <td>../../../fixtures/all/plug_compose.ll</td>\n",
       "    </tr>\n",
       "    <tr>\n",
       "      <th>2</th>\n",
       "      <td>np/ling</td>\n",
       "      <td>refs/heads/master</td>\n",
       "      <td>fixtures/strict-par-success/parallel_assoc_lef...</td>\n",
       "      <td>40960</td>\n",
       "      <td>b59bff84ec03d12fabd3b51a27ed7e39a180097e</td>\n",
       "      <td>../all/parallel_assoc_left.ll</td>\n",
       "    </tr>\n",
       "    <tr>\n",
       "      <th>3</th>\n",
       "      <td>np/ling</td>\n",
       "      <td>refs/heads/master</td>\n",
       "      <td>fixtures/sequence/parallel_assoc_2tensor2_left.ll</td>\n",
       "      <td>40960</td>\n",
       "      <td>f29523e3fb65702d99478e429eac6f801f32152b</td>\n",
       "      <td>../all/parallel_assoc_2tensor2_left.ll</td>\n",
       "    </tr>\n",
       "    <tr>\n",
       "      <th>4</th>\n",
       "      <td>np/ling</td>\n",
       "      <td>refs/heads/master</td>\n",
       "      <td>fixtures/success/my_dual.ll</td>\n",
       "      <td>40960</td>\n",
       "      <td>38a3af095088f90dfc956cb990e893909c3ab286</td>\n",
       "      <td>../all/my_dual.ll</td>\n",
       "    </tr>\n",
       "  </tbody>\n",
       "</table>\n",
       "</div>"
      ],
      "text/plain": [
       "  repo_name                ref  \\\n",
       "0   git/git  refs/heads/master   \n",
       "1   np/ling  refs/heads/master   \n",
       "2   np/ling  refs/heads/master   \n",
       "3   np/ling  refs/heads/master   \n",
       "4   np/ling  refs/heads/master   \n",
       "\n",
       "                                                path   mode  \\\n",
       "0                                           RelNotes  40960   \n",
       "1       tests/success/plug_compose.t/plug_compose.ll  40960   \n",
       "2  fixtures/strict-par-success/parallel_assoc_lef...  40960   \n",
       "3  fixtures/sequence/parallel_assoc_2tensor2_left.ll  40960   \n",
       "4                        fixtures/success/my_dual.ll  40960   \n",
       "\n",
       "                                         id  \\\n",
       "0  62615ffa4e97803da96aefbc798ab50f949a8db7   \n",
       "1  0c1605e4b447158085656487dc477f7670c4bac1   \n",
       "2  b59bff84ec03d12fabd3b51a27ed7e39a180097e   \n",
       "3  f29523e3fb65702d99478e429eac6f801f32152b   \n",
       "4  38a3af095088f90dfc956cb990e893909c3ab286   \n",
       "\n",
       "                           symlink_target  \n",
       "0       Documentation/RelNotes/2.10.0.txt  \n",
       "1   ../../../fixtures/all/plug_compose.ll  \n",
       "2           ../all/parallel_assoc_left.ll  \n",
       "3  ../all/parallel_assoc_2tensor2_left.ll  \n",
       "4                       ../all/my_dual.ll  "
      ]
     },
     "execution_count": 2,
     "metadata": {},
     "output_type": "execute_result"
    }
   ],
   "source": [
    "\n",
    "# Construct a reference to the \"sample_files\" table\n",
    "files_ref = dataset_ref.table(\"sample_files\")\n",
    "\n",
    "# API request - fetch the table\n",
    "files_table = client.get_table(files_ref)\n",
    "\n",
    "# Preview the first five lines of the \"sample_files\" table\n",
    "client.list_rows(files_table, max_results=5).to_dataframe()"
   ]
  },
  {
   "cell_type": "markdown",
   "metadata": {
    "papermill": {
     "duration": 0.009989,
     "end_time": "2020-10-01T00:23:05.175699",
     "exception": false,
     "start_time": "2020-10-01T00:23:05.165710",
     "status": "completed"
    },
    "tags": []
   },
   "source": [
    "Next, we write a query that uses information in both tables to determine how many files are released in each license."
   ]
  },
  {
   "cell_type": "code",
   "execution_count": 3,
   "metadata": {
    "execution": {
     "iopub.execute_input": "2020-10-01T00:23:05.207170Z",
     "iopub.status.busy": "2020-10-01T00:23:05.206228Z",
     "iopub.status.idle": "2020-10-01T00:23:06.885949Z",
     "shell.execute_reply": "2020-10-01T00:23:06.885242Z"
    },
    "papermill": {
     "duration": 1.700067,
     "end_time": "2020-10-01T00:23:06.886110",
     "exception": false,
     "start_time": "2020-10-01T00:23:05.186043",
     "status": "completed"
    },
    "tags": []
   },
   "outputs": [],
   "source": [
    "# Query to determine the number of files per license, sorted by number of files\n",
    "query = \"\"\"\n",
    "        SELECT L.license, COUNT(1) AS number_of_files\n",
    "        FROM `bigquery-public-data.github_repos.sample_files` AS sf\n",
    "        INNER JOIN `bigquery-public-data.github_repos.licenses` AS L \n",
    "            ON sf.repo_name = L.repo_name\n",
    "        GROUP BY L.license\n",
    "        ORDER BY number_of_files DESC\n",
    "        \"\"\"\n",
    "\n",
    "# Set up the query (cancel the query if it would use too much of \n",
    "# your quota, with the limit set to 10 GB)\n",
    "safe_config = bigquery.QueryJobConfig(maximum_bytes_billed=10**10)\n",
    "query_job = client.query(query, job_config=safe_config)\n",
    "\n",
    "# API request - run the query, and convert the results to a pandas DataFrame\n",
    "file_count_by_license = query_job.to_dataframe()"
   ]
  },
  {
   "cell_type": "markdown",
   "metadata": {
    "papermill": {
     "duration": 0.010402,
     "end_time": "2020-10-01T00:23:06.910128",
     "exception": false,
     "start_time": "2020-10-01T00:23:06.899726",
     "status": "completed"
    },
    "tags": []
   },
   "source": [
    "It's a big query, and so we'll investigate each piece separately.\n",
    "\n",
    "![](https://i.imgur.com/QeufD01.png)\n",
    "    \n",
    "We'll begin with the **JOIN** (highlighted in blue above).  This specifies the sources of data and how to join them. We use **ON** to specify that we combine the tables by matching the values in the `repo_name` columns in the tables.\n",
    "\n",
    "Next, we'll talk about **SELECT** and **GROUP BY** (highlighted in yellow).  The **GROUP BY** breaks the data into a different group for each license, before we **COUNT** the number of rows in the `sample_files` table that corresponds to each license.  (Remember that you can count the number of rows with `COUNT(1)`.) \n",
    "\n",
    "Finally, the **ORDER BY** (highlighted in purple) sorts the results so that licenses with more files appear first.\n",
    "\n",
    "It was a big query, but it gave us a nice table summarizing how many files have been committed under each license:  "
   ]
  },
  {
   "cell_type": "code",
   "execution_count": 4,
   "metadata": {
    "execution": {
     "iopub.execute_input": "2020-10-01T00:23:06.947420Z",
     "iopub.status.busy": "2020-10-01T00:23:06.945662Z",
     "iopub.status.idle": "2020-10-01T00:23:06.951173Z",
     "shell.execute_reply": "2020-10-01T00:23:06.950509Z"
    },
    "papermill": {
     "duration": 0.030334,
     "end_time": "2020-10-01T00:23:06.951311",
     "exception": false,
     "start_time": "2020-10-01T00:23:06.920977",
     "status": "completed"
    },
    "tags": []
   },
   "outputs": [
    {
     "data": {
      "text/html": [
       "<div>\n",
       "<style scoped>\n",
       "    .dataframe tbody tr th:only-of-type {\n",
       "        vertical-align: middle;\n",
       "    }\n",
       "\n",
       "    .dataframe tbody tr th {\n",
       "        vertical-align: top;\n",
       "    }\n",
       "\n",
       "    .dataframe thead th {\n",
       "        text-align: right;\n",
       "    }\n",
       "</style>\n",
       "<table border=\"1\" class=\"dataframe\">\n",
       "  <thead>\n",
       "    <tr style=\"text-align: right;\">\n",
       "      <th></th>\n",
       "      <th>license</th>\n",
       "      <th>number_of_files</th>\n",
       "    </tr>\n",
       "  </thead>\n",
       "  <tbody>\n",
       "    <tr>\n",
       "      <th>0</th>\n",
       "      <td>mit</td>\n",
       "      <td>20432437</td>\n",
       "    </tr>\n",
       "    <tr>\n",
       "      <th>1</th>\n",
       "      <td>gpl-2.0</td>\n",
       "      <td>16866825</td>\n",
       "    </tr>\n",
       "    <tr>\n",
       "      <th>2</th>\n",
       "      <td>apache-2.0</td>\n",
       "      <td>7114007</td>\n",
       "    </tr>\n",
       "    <tr>\n",
       "      <th>3</th>\n",
       "      <td>gpl-3.0</td>\n",
       "      <td>4936479</td>\n",
       "    </tr>\n",
       "    <tr>\n",
       "      <th>4</th>\n",
       "      <td>bsd-3-clause</td>\n",
       "      <td>2926576</td>\n",
       "    </tr>\n",
       "    <tr>\n",
       "      <th>5</th>\n",
       "      <td>agpl-3.0</td>\n",
       "      <td>1293773</td>\n",
       "    </tr>\n",
       "    <tr>\n",
       "      <th>6</th>\n",
       "      <td>lgpl-2.1</td>\n",
       "      <td>793054</td>\n",
       "    </tr>\n",
       "    <tr>\n",
       "      <th>7</th>\n",
       "      <td>bsd-2-clause</td>\n",
       "      <td>694767</td>\n",
       "    </tr>\n",
       "    <tr>\n",
       "      <th>8</th>\n",
       "      <td>lgpl-3.0</td>\n",
       "      <td>564433</td>\n",
       "    </tr>\n",
       "    <tr>\n",
       "      <th>9</th>\n",
       "      <td>mpl-2.0</td>\n",
       "      <td>473078</td>\n",
       "    </tr>\n",
       "    <tr>\n",
       "      <th>10</th>\n",
       "      <td>cc0-1.0</td>\n",
       "      <td>405925</td>\n",
       "    </tr>\n",
       "    <tr>\n",
       "      <th>11</th>\n",
       "      <td>epl-1.0</td>\n",
       "      <td>320203</td>\n",
       "    </tr>\n",
       "    <tr>\n",
       "      <th>12</th>\n",
       "      <td>unlicense</td>\n",
       "      <td>208912</td>\n",
       "    </tr>\n",
       "    <tr>\n",
       "      <th>13</th>\n",
       "      <td>artistic-2.0</td>\n",
       "      <td>148414</td>\n",
       "    </tr>\n",
       "    <tr>\n",
       "      <th>14</th>\n",
       "      <td>isc</td>\n",
       "      <td>117709</td>\n",
       "    </tr>\n",
       "  </tbody>\n",
       "</table>\n",
       "</div>"
      ],
      "text/plain": [
       "         license  number_of_files\n",
       "0            mit         20432437\n",
       "1        gpl-2.0         16866825\n",
       "2     apache-2.0          7114007\n",
       "3        gpl-3.0          4936479\n",
       "4   bsd-3-clause          2926576\n",
       "5       agpl-3.0          1293773\n",
       "6       lgpl-2.1           793054\n",
       "7   bsd-2-clause           694767\n",
       "8       lgpl-3.0           564433\n",
       "9        mpl-2.0           473078\n",
       "10       cc0-1.0           405925\n",
       "11       epl-1.0           320203\n",
       "12     unlicense           208912\n",
       "13  artistic-2.0           148414\n",
       "14           isc           117709"
      ]
     },
     "execution_count": 4,
     "metadata": {},
     "output_type": "execute_result"
    }
   ],
   "source": [
    "# Print the DataFrame\n",
    "file_count_by_license"
   ]
  },
  {
   "cell_type": "markdown",
   "metadata": {
    "papermill": {
     "duration": 0.01077,
     "end_time": "2020-10-01T00:23:06.973522",
     "exception": false,
     "start_time": "2020-10-01T00:23:06.962752",
     "status": "completed"
    },
    "tags": []
   },
   "source": [
    "You'll use **JOIN** clauses a lot and get very efficient with them as you get some practice.\n",
    "\n",
    "# Your turn\n",
    "\n",
    "You are on the last step.  Finish it by solving **[these exercises](https://www.kaggle.com/kernels/fork/682118)**."
   ]
  },
  {
   "cell_type": "markdown",
   "metadata": {
    "papermill": {
     "duration": 0.010892,
     "end_time": "2020-10-01T00:23:06.995669",
     "exception": false,
     "start_time": "2020-10-01T00:23:06.984777",
     "status": "completed"
    },
    "tags": []
   },
   "source": [
    "---\n",
    "\n",
    "\n",
    "\n",
    "\n",
    "*Have questions or comments? Visit the [Learn Discussion forum](https://www.kaggle.com/learn-forum/161314) to chat with other Learners.*"
   ]
  }
 ],
 "metadata": {
  "kernelspec": {
   "display_name": "Python 3",
   "language": "python",
   "name": "python3"
  },
  "language_info": {
   "codemirror_mode": {
    "name": "ipython",
    "version": 3
   },
   "file_extension": ".py",
   "mimetype": "text/x-python",
   "name": "python",
   "nbconvert_exporter": "python",
   "pygments_lexer": "ipython3",
   "version": "3.7.6"
  },
  "papermill": {
   "duration": 9.882687,
   "end_time": "2020-10-01T00:23:07.116569",
   "environment_variables": {},
   "exception": null,
   "input_path": "__notebook__.ipynb",
   "output_path": "__notebook__.ipynb",
   "parameters": {},
   "start_time": "2020-10-01T00:22:57.233882",
   "version": "2.1.0"
  }
 },
 "nbformat": 4,
 "nbformat_minor": 2
}
